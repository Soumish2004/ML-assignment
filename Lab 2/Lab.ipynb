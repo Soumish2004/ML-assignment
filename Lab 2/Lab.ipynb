{
 "cells": [
  {
   "cell_type": "code",
   "execution_count": 3,
   "metadata": {},
   "outputs": [],
   "source": [
    "import numpy as np\n",
    "import pandas as pd\n",
    "import statistics as st\n"
   ]
  },
  {
   "cell_type": "code",
   "execution_count": 47,
   "metadata": {},
   "outputs": [],
   "source": [
    "def read(name,lname, sname):\n",
    "    return pd.read_excel(name,index_col=0,usecols=lname,sheet_name=sname)"
   ]
  },
  {
   "cell_type": "code",
   "execution_count": 59,
   "metadata": {},
   "outputs": [
    {
     "name": "stdout",
     "output_type": "stream",
     "text": [
      "[[ 20   6   2 386]\n",
      " [ 16   3   6 289]\n",
      " [ 27   6   2 393]\n",
      " [ 19   1   2 110]\n",
      " [ 24   4   2 280]\n",
      " [ 22   1   5 167]\n",
      " [ 15   4   2 271]\n",
      " [ 18   4   2 274]\n",
      " [ 21   1   4 148]\n",
      " [ 16   2   4 198]]\n",
      "Dimension of data: (10, 4)\n",
      "Number of Vectors: 10\n",
      "Rank of Matrix A: 3\n",
      "Matrix X: [ 1. 55. 18.]\n"
     ]
    }
   ],
   "source": [
    "purchase_data = read(\"Lab Session Data.xlsx\", [0,1,2,3,4],\"Purchase data\")\n",
    "col = purchase_data.columns\n",
    "table1b = purchase_data.to_numpy()\n",
    "A = purchase_data[[col[0],col[1],col[2]]].to_numpy()\n",
    "C = purchase_data[col[3]].to_numpy()\n",
    "\n",
    "print(purchase_data)\n",
    "print(f\"Dimension of data: {table1b.shape}\")\n",
    "print(f\"Number of Vectors: {table1b.shape[0]}\")\n",
    "print(f\"Rank of Matrix A: {np.linalg.matrix_rank(A)}\")\n",
    "\n",
    "X = np.linalg.pinv(A) @ C\n",
    "print(f\"Matrix X: {X}\")\n",
    "\n"
   ]
  },
  {
   "cell_type": "code",
   "execution_count": 62,
   "metadata": {},
   "outputs": [
    {
     "name": "stdout",
     "output_type": "stream",
     "text": [
      "Matrix X: [ 1. 55. 18.]\n"
     ]
    }
   ],
   "source": [
    "X = np.linalg.pinv(A) @ C\n",
    "print(f\"Matrix X: {X}\")"
   ]
  },
  {
   "cell_type": "code",
   "execution_count": 64,
   "metadata": {},
   "outputs": [
    {
     "name": "stdout",
     "output_type": "stream",
     "text": [
      "          Candies (#)  Mangoes (Kg)  Milk Packets (#)  Payment (Rs) class\n",
      "Customer                                                                 \n",
      "C_1                20             6                 2           386  RICH\n",
      "C_2                16             3                 6           289  RICH\n",
      "C_3                27             6                 2           393  RICH\n",
      "C_4                19             1                 2           110  POOR\n",
      "C_5                24             4                 2           280  RICH\n",
      "C_6                22             1                 5           167  POOR\n",
      "C_7                15             4                 2           271  RICH\n",
      "C_8                18             4                 2           274  RICH\n",
      "C_9                21             1                 4           148  POOR\n",
      "C_10               16             2                 4           198  POOR\n"
     ]
    }
   ],
   "source": [
    "def classify(payment):\n",
    "    if payment >= 200:\n",
    "        return 'RICH'\n",
    "    else:\n",
    "        return 'POOR'\n",
    "\n",
    "classifier = np.vectorize(classify)\n",
    "customer = classifier(C)\n",
    "purchase_data['class'] = customer\n",
    "print(purchase_data)"
   ]
  },
  {
   "cell_type": "code",
   "execution_count": 78,
   "metadata": {},
   "outputs": [
    {
     "name": "stdout",
     "output_type": "stream",
     "text": [
      "Mean: 1560.6634538152612\n",
      "Variance: 58496.49239931613\n",
      "Comparison: False\n"
     ]
    }
   ],
   "source": [
    "irctc_data = read(\"Lab Session Data.xlsx\", [0,1,2,3,4,5,6,7,8],\"IRCTC Stock Price\")\n",
    "price = irctc_data['Price'].to_numpy()\n",
    "population_mean = np.mean(price)\n",
    "population_variance = np.var(price)\n",
    "print(f\"Mean: {population_mean}\")\n",
    "print(f\"Variance: {population_variance}\")\n",
    "\n",
    "wednesday_mean = np.mean(irctc_data[irctc_data['Day'] == 'Wed']['Price'].to_numpy())\n",
    "print(f\"Mean of stock price on Wednesday: {population_mean == wednesday_mean}\")\n",
    "print(f\"Comparison: {population_mean == wednesday_mean}\")\n",
    "\n",
    "april_mean = np.mean(irctc_data[irctc_data['Month'] == 'Apr']['Price'].to_numpy())\n",
    "print(f\"Mean of stock price in April {april_mean}\")\n",
    "\n",
    "change = irctc_data['Chg%'].to_numpy()\n",
    "loss_change = irctc_data[irctc_data['Chg%']<0]['Chg%'].to_numpy()\n",
    "probability_loss = len(loss_change)\n",
    "print(f\"Probability of making a loss over the stock\")"
   ]
  }
 ],
 "metadata": {
  "kernelspec": {
   "display_name": "Python 3",
   "language": "python",
   "name": "python3"
  },
  "language_info": {
   "codemirror_mode": {
    "name": "ipython",
    "version": 3
   },
   "file_extension": ".py",
   "mimetype": "text/x-python",
   "name": "python",
   "nbconvert_exporter": "python",
   "pygments_lexer": "ipython3",
   "version": "3.11.0"
  }
 },
 "nbformat": 4,
 "nbformat_minor": 2
}
