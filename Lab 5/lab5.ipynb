{
 "cells": [
  {
   "cell_type": "code",
   "execution_count": null,
   "id": "0161eaaa",
   "metadata": {},
   "outputs": [],
   "source": [
    "import os #module to get the list of files in the directory for taking the dataset \n",
    "from concurrent.futures import as_completed, ThreadPoolExecutor\n",
    "import cv2 #module to read the images\n",
    "import matplotlib.pyplot as plt #for plotting graphs\n",
    "import numpy as np #module to perform numerical operations\n",
    "import pandas as pd  #for DataFrames and Series\n",
    "import seaborn as sns # data visualization\n",
    "from scipy import fft #for Fast Fourier Transform\n",
    "from sklearn.model_selection import train_test_split #for splitting the dataset into training and testing \n",
    "from sklearn.linear_model import LinearRegression #for performing linear regression\n",
    "from sklearn.metrics import mean_squared_error, root_mean_squared_error, mean_absolute_percentage_error, r2_score # for model evaluation metrics\n",
    "from sklearn.cluster import KMeans  # for performing K-Means clustering\n",
    "from sklearn.metrics import silhouette_score # for evaluating clustering performance using silhouette score\n",
    "from sklearn.metrics import calinski_harabasz_score # for evaluating clustering using Calinski-Harabasz index\n",
    "from sklearn.metrics import davies_bouldin_score  # for evaluating clustering using Davies-Bouldin index"
   ]
  },
  {
   "cell_type": "code",
   "execution_count": 1,
   "id": "1981c9b649633f83",
   "metadata": {
    "ExecuteTime": {
     "end_time": "2024-08-14T00:39:43.003323Z",
     "start_time": "2024-08-14T00:39:17.478370Z"
    }
   },
   "outputs": [
    {
     "name": "stderr",
     "output_type": "stream",
     "text": [
      "C:\\Users\\soumi\\AppData\\Local\\Temp\\ipykernel_6560\\3557775069.py:7: DeprecationWarning: \n",
      "Pyarrow will become a required dependency of pandas in the next major release of pandas (pandas 3.0),\n",
      "(to allow more performant data types, such as the Arrow string type, and better interoperability with other libraries)\n",
      "but was not found to be installed on your system.\n",
      "If this would cause problems for you,\n",
      "please provide us feedback at https://github.com/pandas-dev/pandas/issues/54466\n",
      "        \n",
      "  import pandas as pd\n"
     ]
    }
   ],
   "source": [
    "def to_gray(image): #function to convert the image to grayscale\n",
    "    return cv2.cvtColor(image, cv2.COLOR_BGR2GRAY)\n",
    "\n",
    "\n",
    "def load_img_with_features(filepath): \n",
    "    img = cv2.imread(filepath)# Load the image from the specified file path\n",
    "    gray_img = to_gray(img)# Convert the image to grayscale\n",
    "    features = np.abs(fft.fft2(gray_img)).flatten()# Extract features from the grayscale image\n",
    "    # Return the list of means, list of variances, and the corresponding label\n",
    "    return features[0], features[1:], features\n",
    "\n",
    "\n",
    "def load_imgs_from_directory(directory, num_images=None):\n",
    "    dc_val = []\n",
    "    dc_dash_val = []\n",
    "    features_1 = []\n",
    "    files = os.listdir(directory)# Get the list of all files in the specified directory\n",
    "    # Limit the number of files to the specified number if provided\n",
    "    if num_images is not None: \n",
    "        files = files[:num_images]\n",
    "    with ThreadPoolExecutor() as executor:# Use ThreadPoolExecutor to process images concurrently\n",
    "        # Submit tasks to executor for loading images and extracting features\n",
    "        futures = [executor.submit(load_img_with_features, os.path.join(directory, filename)) for filename in files]\n",
    "        # Process each future as it completes\n",
    "        for future in as_completed(futures):\n",
    "            dc, dc_dash, features = future.result()\n",
    "            features_1.append(features)\n",
    "            dc_val.append(dc)\n",
    "            dc_dash_val.append(dc_dash)\n",
    "    # Return lists of DC values, DC dash values, and extracted features\n",
    "    return dc_val, dc_dash_val, features_1\n",
    "\n",
    "\n",
    "\n",
    "fake_dir='E:\\zipp\\college\\Third Year\\\\5th Sem\\ML\\ML\\Lab 3\\\\train\\FAKE' #Fake Images\n",
    "real_dir='E:\\zipp\\college\\Third Year\\\\5th Sem\\ML\\ML\\Lab 3\\\\train\\REAL' #Real Images\n"
   ]
  },
  {
   "cell_type": "code",
   "execution_count": 2,
   "id": "139ee72b",
   "metadata": {},
   "outputs": [],
   "source": [
    "num_images_to_load = 10000 #Number of images to load\n",
    "\n",
    "# Load images from the fake directory and extract DC values, DC dash values, and features\n",
    "DC_vals_train, DC_dash_train, features_fake = load_imgs_from_directory(fake_dir, num_images=num_images_to_load)\n",
    "# Load images from the real directory and extract DC values, DC dash values, and features\n",
    "DC_vals_test, DC_dash_test, features_real = load_imgs_from_directory(real_dir, num_images=num_images_to_load)\n",
    "\n",
    "dc_val = np.concatenate((DC_vals_test, DC_vals_train))# Concatenate DC values from both the test and train datasets\n",
    "dc_dash= np.vstack((DC_dash_test, DC_dash_train))# Stack DC dash values vertically from both datasets\n",
    "features = np.vstack((features_fake, features_real))# Stack feature arrays vertically from both the fake and real datasets\n"
   ]
  },
  {
   "cell_type": "code",
   "execution_count": 3,
   "id": "7d51ac62662237ef",
   "metadata": {
    "ExecuteTime": {
     "end_time": "2024-08-14T00:49:02.707823Z",
     "start_time": "2024-08-14T00:49:02.419820Z"
    }
   },
   "outputs": [],
   "source": [
    "#Splitting the dataset into training and testing sets, 50 percent of data will be used for testing.\n",
    "X_train, X_test, y_train, y_test = train_test_split(dc_dash, dc_val, test_size=0.5, random_state=32)"
   ]
  },
  {
   "cell_type": "code",
   "execution_count": 5,
   "id": "87bc94d9",
   "metadata": {},
   "outputs": [],
   "source": [
    "reg = LinearRegression().fit(X_train, y_train)# Create and train a Linear Regression model using the training data\n",
    "# Predict the target values (DC values) for the test dataset using the trained model\n",
    "y_train_pred = reg.predict(X_test)"
   ]
  },
  {
   "cell_type": "code",
   "execution_count": 7,
   "id": "8783c6ec",
   "metadata": {},
   "outputs": [
    {
     "name": "stdout",
     "output_type": "stream",
     "text": [
      "[103721.2306 122555.2306 128509.2306 ... 121093.2306 106982.2306\n",
      " 126485.2306]\n",
      "[141127. 107585. 104446. ... 155980. 119368. 126529.]\n"
     ]
    }
   ],
   "source": [
    "print(y_train_pred)\n",
    "print(y_train)"
   ]
  },
  {
   "cell_type": "code",
   "execution_count": 8,
   "id": "9cfdfbb3",
   "metadata": {},
   "outputs": [
    {
     "name": "stdout",
     "output_type": "stream",
     "text": [
      "Mean Squared Error (MSE) on training data:\t868059841.4117482\n",
      "Root Mean Squared Error (RMSE) on training data:\t29462.85528274115\n",
      "Mean Absolute Percentage Error (MAPE) on training data:\t0.20882360934853314\n",
      "R^2 Score on training data:\t-0.13437341776656275\n"
     ]
    }
   ],
   "source": [
    "# Calculate Mean Squared Error (MSE) between actual and predicted values on the test data\n",
    "mse_train = mean_squared_error(y_train, y_train_pred)\n",
    "# Calculate Root Mean Squared Error (RMSE) on the test data\n",
    "rmse_train = np.sqrt(mse_train)\n",
    "# Calculate Mean Absolute Percentage Error (MAPE) between actual and predicted values on the test data\n",
    "mape_train = mean_absolute_percentage_error(y_train, y_train_pred)\n",
    "# Calculate R^2 Score (coefficient of determination) to evaluate the goodness of fit\n",
    "r2_train = r2_score(y_train, y_train_pred)\n",
    "\n",
    "print(f\"Mean Squared Error (MSE) on training data:\\t{mse_train}\")\n",
    "print(f\"Root Mean Squared Error (RMSE) on training data:\\t{rmse_train}\")\n",
    "print(f\"Mean Absolute Percentage Error (MAPE) on training data:\\t{mape_train}\")\n",
    "print(f\"R^2 Score on training data:\\t{r2_train}\")"
   ]
  },
  {
   "cell_type": "code",
   "execution_count": 10,
   "id": "be66d0b5",
   "metadata": {},
   "outputs": [
    {
     "name": "stdout",
     "output_type": "stream",
     "text": [
      "[0 0 1 ... 1 1 0]\n",
      "[[101644.45603814   9971.24047836   5271.42107021 ...   2808.60174411\n",
      "    3997.06992778   6819.65803537]\n",
      " [144889.09432657  10115.81805014   5291.58928044 ...   2748.75129843\n",
      "    4014.48328052   6951.77941988]]\n"
     ]
    },
    {
     "data": {
      "text/plain": [
       "7863.660641600254"
      ]
     },
     "execution_count": 10,
     "metadata": {},
     "output_type": "execute_result"
    }
   ],
   "source": [
    "kmeans = KMeans(n_clusters=2, random_state=0, n_init=\"auto\").fit(features)\n",
    "print(kmeans.labels_)#print the labels assigned to each sample\n",
    "print(kmeans.cluster_centers_)# Print the coordinates of the cluster centers\n",
    "calinski_harabasz_score(features, kmeans.labels_)# Compute the Calinski-Harabasz score to evaluate the clustering quality"
   ]
  },
  {
   "cell_type": "code",
   "execution_count": 11,
   "id": "99ceda47",
   "metadata": {},
   "outputs": [],
   "source": [
    "def kmeans_wrapper(n_clusters, X):\n",
    "    kmeans = KMeans(n_clusters=n_clusters, random_state=32).fit(X)\n",
    "    print(kmeans.labels_)#print the labels assigned to each sample\n",
    "    return {\n",
    "        \"labels\": kmeans.labels_,\n",
    "        \"centres\": kmeans.cluster_centers_,\n",
    "        \"inertia\": kmeans.inertia_,\n",
    "    }"
   ]
  },
  {
   "cell_type": "code",
   "execution_count": 12,
   "id": "7d7a5cd1",
   "metadata": {},
   "outputs": [],
   "source": [
    "def get_scores(X, start, end):\n",
    "    # Initialize a dictionary to store clustering scores and distortions for different numbers of clusters\n",
    "    results = {\n",
    "        \"Davies-Bouldin Score\": [],# To store Davies-Bouldin scores\n",
    "        \"Silhouette Score\": [],# To store Silhouette scores\n",
    "        \"Calinski-Harabasz Score\": [],# To store Calinski-Harabasz scores\n",
    "        \"distortions\": [], # To store inertia (within-cluster sum of squares)\n",
    "        \"K\": list(range(start, end)) # Range of cluster numbers to evaluate\n",
    "    }\n",
    "    # Loop over the range of cluster numbers\n",
    "    for i in range(start, end):\n",
    "        # Get the clustering results for the current number of clusters\n",
    "        labels, centres, inertia = kmeans_wrapper(i, X).values()\n",
    "        n_labels = len(set(labels)) # Number of unique clusters\n",
    "\n",
    "        # Calculate the scores only if more than one cluster is formed\n",
    "        if n_labels > 1:  # Proceed only if there is more than one cluster\n",
    "            results[\"Calinski-Harabasz Score\"].append(calinski_harabasz_score(X, labels))# Append the Calinski-Harabasz score for current clustering\n",
    "            results[\"Silhouette Score\"].append(silhouette_score(X, labels))# Append the Silhouette score for current clustering\n",
    "            results[\"Davies-Bouldin Score\"].append(davies_bouldin_score(X, labels))# Append the Davies-Bouldin score for current clustering\n",
    "        results[\"distortions\"].append(inertia)# Append the distortion (inertia) for current clustering\n",
    "    return results# Return the dictionary containing all scores and distortions"
   ]
  },
  {
   "cell_type": "code",
   "execution_count": 13,
   "id": "00dfd9d2",
   "metadata": {},
   "outputs": [
    {
     "data": {
      "text/plain": [
       "array([[ 98735.        ,   7723.86140451,   7013.4052213 , ...,\n",
       "          1924.50168508,   1940.75781431,   9461.6612842 ],\n",
       "       [106979.        ,   3892.20315557,   3644.34430744, ...,\n",
       "          4524.1444969 ,   5072.40688809,   8376.08616131],\n",
       "       [128394.        ,   6061.97285841,   2575.8619036 , ...,\n",
       "          2410.49730847,   4176.25583801,   4875.33641726],\n",
       "       ...,\n",
       "       [167738.        ,   8304.27830827,   3693.27266513, ...,\n",
       "          5250.026441  ,   4124.60159029,   3390.18982707],\n",
       "       [180160.        ,  17826.39983097,   3579.48406243, ...,\n",
       "          3768.37741727,   5550.39950522,  14511.02408039],\n",
       "       [ 77181.        ,   2870.65557877,   3171.85725784, ...,\n",
       "          1823.95496442,   6630.43065552,  12190.31032044]])"
      ]
     },
     "execution_count": 13,
     "metadata": {},
     "output_type": "execute_result"
    }
   ],
   "source": [
    "features"
   ]
  },
  {
   "cell_type": "code",
   "execution_count": 14,
   "id": "527dc2bb",
   "metadata": {},
   "outputs": [
    {
     "name": "stdout",
     "output_type": "stream",
     "text": [
      "[1 1 0 ... 0 0 1]\n",
      "[1 1 2 ... 0 0 1]\n",
      "[3 2 2 ... 0 0 3]\n",
      "[3 3 0 ... 4 4 3]\n",
      "[1 1 0 ... 5 5 3]\n",
      "[1 6 0 ... 5 5 3]\n",
      "[6 0 0 ... 4 4 3]\n",
      "[6 0 5 ... 4 4 3]\n",
      "[6 0 0 ... 5 4 9]\n",
      "[6 0 0 ... 5 4 9]\n",
      "[6 0 8 ... 5 4 9]\n",
      "[ 6  0  5 ...  4 12  9]\n",
      "[ 6 13  0 ...  4 12  9]\n",
      "[14  6  8 ...  4  4  9]\n",
      "[14  6  0 ...  4  4  9]\n",
      "[14  6  0 ...  5  4  9]\n",
      "[14 17  8 ...  4  4 14]\n",
      "[14 17  0 ...  4  4 14]\n",
      "[19 17  0 ...  5  4 19]\n",
      "[10 13 11 ... 12 12 19]\n",
      "[10 13 11 ... 12 12 19]\n",
      "[10 11  0 ...  7 12 19]\n",
      "[10 15  0 ... 12 12 19]\n"
     ]
    }
   ],
   "source": [
    "results_df = pd.DataFrame(get_scores(features, 2, 25)) "
   ]
  },
  {
   "cell_type": "code",
   "execution_count": 16,
   "id": "0e388a3e",
   "metadata": {},
   "outputs": [
    {
     "data": {
      "text/html": [
       "<div>\n",
       "<style scoped>\n",
       "    .dataframe tbody tr th:only-of-type {\n",
       "        vertical-align: middle;\n",
       "    }\n",
       "\n",
       "    .dataframe tbody tr th {\n",
       "        vertical-align: top;\n",
       "    }\n",
       "\n",
       "    .dataframe thead th {\n",
       "        text-align: right;\n",
       "    }\n",
       "</style>\n",
       "<table border=\"1\" class=\"dataframe\">\n",
       "  <thead>\n",
       "    <tr style=\"text-align: right;\">\n",
       "      <th></th>\n",
       "      <th>Davies-Bouldin Score</th>\n",
       "      <th>Silhouette Score</th>\n",
       "      <th>Calinski-Harabasz Score</th>\n",
       "      <th>distortions</th>\n",
       "      <th>K</th>\n",
       "    </tr>\n",
       "  </thead>\n",
       "  <tbody>\n",
       "    <tr>\n",
       "      <th>0</th>\n",
       "      <td>1.524056</td>\n",
       "      <td>0.232164</td>\n",
       "      <td>7863.661765</td>\n",
       "      <td>2.380523e+13</td>\n",
       "      <td>2</td>\n",
       "    </tr>\n",
       "    <tr>\n",
       "      <th>1</th>\n",
       "      <td>1.783593</td>\n",
       "      <td>0.160861</td>\n",
       "      <td>5859.163327</td>\n",
       "      <td>2.091166e+13</td>\n",
       "      <td>3</td>\n",
       "    </tr>\n",
       "    <tr>\n",
       "      <th>2</th>\n",
       "      <td>1.968960</td>\n",
       "      <td>0.143184</td>\n",
       "      <td>4744.820234</td>\n",
       "      <td>1.937417e+13</td>\n",
       "      <td>4</td>\n",
       "    </tr>\n",
       "    <tr>\n",
       "      <th>3</th>\n",
       "      <td>1.886926</td>\n",
       "      <td>0.144993</td>\n",
       "      <td>4159.959259</td>\n",
       "      <td>1.810172e+13</td>\n",
       "      <td>5</td>\n",
       "    </tr>\n",
       "    <tr>\n",
       "      <th>4</th>\n",
       "      <td>1.907750</td>\n",
       "      <td>0.113106</td>\n",
       "      <td>3715.335621</td>\n",
       "      <td>1.719235e+13</td>\n",
       "      <td>6</td>\n",
       "    </tr>\n",
       "    <tr>\n",
       "      <th>5</th>\n",
       "      <td>1.931492</td>\n",
       "      <td>0.109915</td>\n",
       "      <td>3359.919038</td>\n",
       "      <td>1.651422e+13</td>\n",
       "      <td>7</td>\n",
       "    </tr>\n",
       "    <tr>\n",
       "      <th>6</th>\n",
       "      <td>1.985544</td>\n",
       "      <td>0.104917</td>\n",
       "      <td>3053.889065</td>\n",
       "      <td>1.602772e+13</td>\n",
       "      <td>8</td>\n",
       "    </tr>\n",
       "    <tr>\n",
       "      <th>7</th>\n",
       "      <td>2.001161</td>\n",
       "      <td>0.090195</td>\n",
       "      <td>2817.625362</td>\n",
       "      <td>1.558876e+13</td>\n",
       "      <td>9</td>\n",
       "    </tr>\n",
       "    <tr>\n",
       "      <th>8</th>\n",
       "      <td>2.122601</td>\n",
       "      <td>0.089003</td>\n",
       "      <td>2593.052355</td>\n",
       "      <td>1.530179e+13</td>\n",
       "      <td>10</td>\n",
       "    </tr>\n",
       "    <tr>\n",
       "      <th>9</th>\n",
       "      <td>2.067341</td>\n",
       "      <td>0.088194</td>\n",
       "      <td>2432.518685</td>\n",
       "      <td>1.496033e+13</td>\n",
       "      <td>11</td>\n",
       "    </tr>\n",
       "    <tr>\n",
       "      <th>10</th>\n",
       "      <td>2.114095</td>\n",
       "      <td>0.082316</td>\n",
       "      <td>2274.330992</td>\n",
       "      <td>1.472974e+13</td>\n",
       "      <td>12</td>\n",
       "    </tr>\n",
       "    <tr>\n",
       "      <th>11</th>\n",
       "      <td>2.159121</td>\n",
       "      <td>0.078927</td>\n",
       "      <td>2142.686661</td>\n",
       "      <td>1.450546e+13</td>\n",
       "      <td>13</td>\n",
       "    </tr>\n",
       "    <tr>\n",
       "      <th>12</th>\n",
       "      <td>2.118376</td>\n",
       "      <td>0.078601</td>\n",
       "      <td>2023.514550</td>\n",
       "      <td>1.431910e+13</td>\n",
       "      <td>14</td>\n",
       "    </tr>\n",
       "    <tr>\n",
       "      <th>13</th>\n",
       "      <td>2.172776</td>\n",
       "      <td>0.078188</td>\n",
       "      <td>1926.056788</td>\n",
       "      <td>1.411768e+13</td>\n",
       "      <td>15</td>\n",
       "    </tr>\n",
       "    <tr>\n",
       "      <th>14</th>\n",
       "      <td>2.192467</td>\n",
       "      <td>0.076825</td>\n",
       "      <td>1830.911273</td>\n",
       "      <td>1.396884e+13</td>\n",
       "      <td>16</td>\n",
       "    </tr>\n",
       "    <tr>\n",
       "      <th>15</th>\n",
       "      <td>2.221488</td>\n",
       "      <td>0.075380</td>\n",
       "      <td>1752.627693</td>\n",
       "      <td>1.380021e+13</td>\n",
       "      <td>17</td>\n",
       "    </tr>\n",
       "    <tr>\n",
       "      <th>16</th>\n",
       "      <td>2.175740</td>\n",
       "      <td>0.066555</td>\n",
       "      <td>1687.575405</td>\n",
       "      <td>1.361643e+13</td>\n",
       "      <td>18</td>\n",
       "    </tr>\n",
       "    <tr>\n",
       "      <th>17</th>\n",
       "      <td>2.201223</td>\n",
       "      <td>0.065091</td>\n",
       "      <td>1620.417260</td>\n",
       "      <td>1.348341e+13</td>\n",
       "      <td>19</td>\n",
       "    </tr>\n",
       "    <tr>\n",
       "      <th>18</th>\n",
       "      <td>2.280240</td>\n",
       "      <td>0.063122</td>\n",
       "      <td>1555.568042</td>\n",
       "      <td>1.337732e+13</td>\n",
       "      <td>20</td>\n",
       "    </tr>\n",
       "    <tr>\n",
       "      <th>19</th>\n",
       "      <td>2.197962</td>\n",
       "      <td>0.057399</td>\n",
       "      <td>1500.900719</td>\n",
       "      <td>1.325325e+13</td>\n",
       "      <td>21</td>\n",
       "    </tr>\n",
       "    <tr>\n",
       "      <th>20</th>\n",
       "      <td>2.234714</td>\n",
       "      <td>0.055427</td>\n",
       "      <td>1448.124951</td>\n",
       "      <td>1.314959e+13</td>\n",
       "      <td>22</td>\n",
       "    </tr>\n",
       "    <tr>\n",
       "      <th>21</th>\n",
       "      <td>2.298171</td>\n",
       "      <td>0.061839</td>\n",
       "      <td>1399.653482</td>\n",
       "      <td>1.305032e+13</td>\n",
       "      <td>23</td>\n",
       "    </tr>\n",
       "    <tr>\n",
       "      <th>22</th>\n",
       "      <td>2.278743</td>\n",
       "      <td>0.062668</td>\n",
       "      <td>1352.789543</td>\n",
       "      <td>1.296773e+13</td>\n",
       "      <td>24</td>\n",
       "    </tr>\n",
       "  </tbody>\n",
       "</table>\n",
       "</div>"
      ],
      "text/plain": [
       "    Davies-Bouldin Score  Silhouette Score  Calinski-Harabasz Score  \\\n",
       "0               1.524056          0.232164              7863.661765   \n",
       "1               1.783593          0.160861              5859.163327   \n",
       "2               1.968960          0.143184              4744.820234   \n",
       "3               1.886926          0.144993              4159.959259   \n",
       "4               1.907750          0.113106              3715.335621   \n",
       "5               1.931492          0.109915              3359.919038   \n",
       "6               1.985544          0.104917              3053.889065   \n",
       "7               2.001161          0.090195              2817.625362   \n",
       "8               2.122601          0.089003              2593.052355   \n",
       "9               2.067341          0.088194              2432.518685   \n",
       "10              2.114095          0.082316              2274.330992   \n",
       "11              2.159121          0.078927              2142.686661   \n",
       "12              2.118376          0.078601              2023.514550   \n",
       "13              2.172776          0.078188              1926.056788   \n",
       "14              2.192467          0.076825              1830.911273   \n",
       "15              2.221488          0.075380              1752.627693   \n",
       "16              2.175740          0.066555              1687.575405   \n",
       "17              2.201223          0.065091              1620.417260   \n",
       "18              2.280240          0.063122              1555.568042   \n",
       "19              2.197962          0.057399              1500.900719   \n",
       "20              2.234714          0.055427              1448.124951   \n",
       "21              2.298171          0.061839              1399.653482   \n",
       "22              2.278743          0.062668              1352.789543   \n",
       "\n",
       "     distortions   K  \n",
       "0   2.380523e+13   2  \n",
       "1   2.091166e+13   3  \n",
       "2   1.937417e+13   4  \n",
       "3   1.810172e+13   5  \n",
       "4   1.719235e+13   6  \n",
       "5   1.651422e+13   7  \n",
       "6   1.602772e+13   8  \n",
       "7   1.558876e+13   9  \n",
       "8   1.530179e+13  10  \n",
       "9   1.496033e+13  11  \n",
       "10  1.472974e+13  12  \n",
       "11  1.450546e+13  13  \n",
       "12  1.431910e+13  14  \n",
       "13  1.411768e+13  15  \n",
       "14  1.396884e+13  16  \n",
       "15  1.380021e+13  17  \n",
       "16  1.361643e+13  18  \n",
       "17  1.348341e+13  19  \n",
       "18  1.337732e+13  20  \n",
       "19  1.325325e+13  21  \n",
       "20  1.314959e+13  22  \n",
       "21  1.305032e+13  23  \n",
       "22  1.296773e+13  24  "
      ]
     },
     "execution_count": 16,
     "metadata": {},
     "output_type": "execute_result"
    }
   ],
   "source": [
    "results_df"
   ]
  },
  {
   "cell_type": "code",
   "execution_count": 17,
   "id": "c9a1af6b",
   "metadata": {},
   "outputs": [
    {
     "data": {
      "image/png": "[encoded data removed]",
      "text/plain": [
       "<Figure size 640x480 with 1 Axes>"
      ]
     },
     "metadata": {},
     "output_type": "display_data"
    },
    {
     "data": {
      "image/png": "[encoded data removed]",
      "text/plain": [
       "<Figure size 640x480 with 1 Axes>"
      ]
     },
     "metadata": {},
     "output_type": "display_data"
    },
    {
     "data": {
      "image/png": "[encoded data removed]",
      "text/plain": [
       "<Figure size 640x480 with 1 Axes>"
      ]
     },
     "metadata": {},
     "output_type": "display_data"
    },
    {
     "data": {
      "image/png": "[encoded data removed]",
      "text/plain": [
       "<Figure size 640x480 with 1 Axes>"
      ]
     },
     "metadata": {},
     "output_type": "display_data"
    }
   ],
   "source": [
    "sns.lineplot(data = results_df, x=\"K\", y=\"Davies-Bouldin Score\")\n",
    "plt.show()\n",
    "sns.lineplot(data=results_df, x=\"K\", y=\"Silhouette Score\")\n",
    "plt.show()\n",
    "sns.lineplot(data=results_df, x=\"K\", y=\"Calinski-Harabasz Score\")\n",
    "plt.show()\n",
    "sns.lineplot(data=results_df, x=\"K\", y=\"distortions\")\n",
    "plt.show()"
   ]
  }
 ],
 "metadata": {
  "kernelspec": {
   "display_name": "Python 3",
   "language": "python",
   "name": "python3"
  },
  "language_info": {
   "codemirror_mode": {
    "name": "ipython",
    "version": 3
   },
   "file_extension": ".py",
   "mimetype": "text/x-python",
   "name": "python",
   "nbconvert_exporter": "python",
   "pygments_lexer": "ipython3",
   "version": "3.11.0"
  }
 },
 "nbformat": 4,
 "nbformat_minor": 5
}
